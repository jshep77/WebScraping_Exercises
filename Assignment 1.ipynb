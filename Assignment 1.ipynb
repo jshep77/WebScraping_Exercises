{
 "cells": [
  {
   "cell_type": "markdown",
   "id": "c0c8c8cd",
   "metadata": {},
   "source": [
    "Problem 1"
   ]
  },
  {
   "cell_type": "code",
   "execution_count": null,
   "id": "340971a4",
   "metadata": {},
   "outputs": [],
   "source": [
    "username = input(\"Please enter a username:\")\n",
    "password = input(\"Please enter a password:\")\n",
    "i = 1\n",
    "\n",
    "if(username==password):\n",
    "    print(\"Welcome\", username, \"!\")\n",
    "\n",
    "else:\n",
    "    while i <= 2:\n",
    "        username = input(\"Your login information is incorrect, please enter your username:\")\n",
    "        password = input(\"Please enter your password:\")\n",
    "        if(username==password):\n",
    "            print(\"Welcome\", username, \"!\")\n",
    "            break\n",
    "        else:\n",
    "            i+=1\n",
    "if (i==3):         \n",
    "    resetQuery = input(\"Would you like to reset your password?\")\n",
    "    if (resetQuery==\"yes\" or resetquery==\"Yes\"):\n",
    "        securityQuestion = input(\"Please answer the following questions so we can reset your password.\\nWhat what the name this language?\")\n",
    "        if (securityQuestion==\"Python\" or securityQuestion==\"python\"):\n",
    "            newPassword = input(\"Correct, please enter your new password:\")\n",
    "            print(\"Welcome\", username, \", your password has been reset.\")\n",
    "        else:\n",
    "            print(\"The answers you provided are not correct. Your account is blocked.\")"
   ]
  },
  {
   "cell_type": "markdown",
   "id": "f2d8971c",
   "metadata": {},
   "source": [
    "Problem 2"
   ]
  },
  {
   "cell_type": "code",
   "execution_count": null,
   "id": "9152df6e",
   "metadata": {},
   "outputs": [],
   "source": [
    "def returnToZero():\n",
    "    n = int(input(\"Please enter an integer:\"))\n",
    "    while n>=0:\n",
    "        print(n)\n",
    "        n-=1"
   ]
  },
  {
   "cell_type": "markdown",
   "id": "dde7582a",
   "metadata": {},
   "source": [
    "Problem 3"
   ]
  },
  {
   "cell_type": "code",
   "execution_count": null,
   "id": "647fe27e",
   "metadata": {},
   "outputs": [],
   "source": [
    "testlist=['a','b','a','a','b','a']\n",
    "num_tup = (1,2,3,4,5,6)\n",
    "tupletime = (1,2,3,4)\n",
    "listOfStrings = [\"racecar\",\"cat\",\"dad\",\"green\",\"bobby\"]\n",
    "\n",
    "def lastElement(list):\n",
    "    print(list[-1])\n",
    "    \n",
    "def penultimateElement(list):\n",
    "    print(list[-2])\n",
    "    \n",
    "def palindroneListChecker(list):\n",
    "    reverse = []\n",
    "    for i in range(0,len(list)):\n",
    "        reverse.append(list[-i-1])\n",
    "    if (list==reverse):\n",
    "        print(\"The given list is a palindrome\")\n",
    "    else:\n",
    "        print(\"The given list is not a palindrome\")\n",
    "        \n",
    "def tupleTime(tuple1, tuple2):\n",
    "    tuple3 = tuple1 + tuple2\n",
    "    print(tuple3, type(tuple3))\n",
    "    \n",
    "def tupleTimeAgain(tuple):\n",
    "    tupleList = list(tuple)\n",
    "    tupleList.remove(tupleList[-1])\n",
    "    print(tupleList, type(tupleList))\n",
    "    \n",
    "def allPalindromeFinder(list):\n",
    "    print(\"Of the given list, the following elements are palindromes:\")\n",
    "    for y in range(0,len(list)):\n",
    "        reverse = []\n",
    "        for i in range(0,len(list[y])):\n",
    "            reverse.append((list[y])[-i-1])\n",
    "        reverseString = ''.join(reverse)\n",
    "        if (list[y]==reverseString):\n",
    "            print(list[y])          "
   ]
  },
  {
   "cell_type": "code",
   "execution_count": null,
   "id": "d665ac79",
   "metadata": {},
   "outputs": [],
   "source": [
    "lastElement(testlist)\n",
    "\n",
    "penultimateElement(testlist)\n",
    "\n",
    "palindroneListChecker(testlist)\n",
    "\n",
    "tupleTime(num_tup, tupletime)\n",
    "\n",
    "tupleTimeAgain(num_tup)\n",
    "\n",
    "allPalindromeFinder(listOfStrings)"
   ]
  },
  {
   "cell_type": "markdown",
   "id": "eb307444",
   "metadata": {},
   "source": [
    "Problem 4"
   ]
  },
  {
   "cell_type": "code",
   "execution_count": null,
   "id": "7404542c",
   "metadata": {},
   "outputs": [],
   "source": [
    "class Student:\n",
    "    def __init__(self,name,year,grade):\n",
    "        self.name = name\n",
    "        self.year = year\n",
    "        self.grade = grade\n",
    "    \n",
    "    def GPACalc(self):\n",
    "        if (self.grade=='A'):\n",
    "           gpa = 4\n",
    "        elif (self.grade=='B'):\n",
    "           gpa = 3\n",
    "        elif (self.grade=='C'):\n",
    "           gpa = 2\n",
    "        elif (self.grade=='D'):\n",
    "           gpa = 1\n",
    "        print(gpa)\n",
    "    \n",
    "Joe = Student(\"Joseph\",2,\"A\")    \n",
    "Joe.GPACalc()\n",
    "print(type(Student))\n",
    "print(Joe.__dict__)\n",
    "print(Joe.__module__)"
   ]
  }
 ],
 "metadata": {
  "kernelspec": {
   "display_name": "Python 3 (ipykernel)",
   "language": "python",
   "name": "python3"
  },
  "language_info": {
   "codemirror_mode": {
    "name": "ipython",
    "version": 3
   },
   "file_extension": ".py",
   "mimetype": "text/x-python",
   "name": "python",
   "nbconvert_exporter": "python",
   "pygments_lexer": "ipython3",
   "version": "3.10.9"
  }
 },
 "nbformat": 4,
 "nbformat_minor": 5
}
